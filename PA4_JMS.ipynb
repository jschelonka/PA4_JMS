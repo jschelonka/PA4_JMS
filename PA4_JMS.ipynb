{
 "cells": [
  {
   "cell_type": "code",
   "execution_count": 50,
   "id": "827921d2",
   "metadata": {},
   "outputs": [],
   "source": [
    "myList = [49, 28, 23, 40, 72]"
   ]
  },
  {
   "cell_type": "markdown",
   "id": "53aa94be",
   "metadata": {},
   "source": [
    "### The append() function adds an element onto the end of a list"
   ]
  },
  {
   "cell_type": "code",
   "execution_count": 51,
   "id": "e1ce2e0b",
   "metadata": {},
   "outputs": [
    {
     "data": {
      "text/plain": [
       "[49, 28, 23, 40, 72, 50]"
      ]
     },
     "execution_count": 51,
     "metadata": {},
     "output_type": "execute_result"
    }
   ],
   "source": [
    "myList.append(50)\n",
    "myList"
   ]
  },
  {
   "cell_type": "markdown",
   "id": "c65c4066",
   "metadata": {},
   "source": [
    "### The extend() function adds a list onto the end of a list"
   ]
  },
  {
   "cell_type": "code",
   "execution_count": 52,
   "id": "bc8bd49a",
   "metadata": {},
   "outputs": [
    {
     "data": {
      "text/plain": [
       "[49, 28, 23, 40, 72, 50, 93, 68, 19, 64, 70]"
      ]
     },
     "execution_count": 52,
     "metadata": {},
     "output_type": "execute_result"
    }
   ],
   "source": [
    "myList2 = [93, 68, 19, 64, 70]\n",
    "myList.extend(myList2)\n",
    "myList"
   ]
  },
  {
   "cell_type": "markdown",
   "id": "eca383ba",
   "metadata": {},
   "source": [
    "### The insert() function inserts an element at a specified location"
   ]
  },
  {
   "cell_type": "code",
   "execution_count": 53,
   "id": "d9d6cb03",
   "metadata": {},
   "outputs": [
    {
     "data": {
      "text/plain": [
       "[49, 28, 23, 40, 72, 50, 93, 68, 19, 40, 64, 70]"
      ]
     },
     "execution_count": 53,
     "metadata": {},
     "output_type": "execute_result"
    }
   ],
   "source": [
    "myList.insert(-2, 40)\n",
    "myList"
   ]
  },
  {
   "cell_type": "markdown",
   "id": "8bd5c81e",
   "metadata": {},
   "source": [
    "### The remove() function removes a specified number from a list"
   ]
  },
  {
   "cell_type": "code",
   "execution_count": 54,
   "id": "6793ffd6",
   "metadata": {},
   "outputs": [
    {
     "data": {
      "text/plain": [
       "[49, 28, 23, 40, 72, 50, 93, 68, 19, 40, 70]"
      ]
     },
     "execution_count": 54,
     "metadata": {},
     "output_type": "execute_result"
    }
   ],
   "source": [
    "myList.remove(64)\n",
    "myList"
   ]
  },
  {
   "cell_type": "markdown",
   "id": "94e3bc7c",
   "metadata": {},
   "source": [
    "### The count() function counts the number of times an element appears in a list"
   ]
  },
  {
   "cell_type": "code",
   "execution_count": 55,
   "id": "0e64cf20",
   "metadata": {},
   "outputs": [
    {
     "data": {
      "text/plain": [
       "2"
      ]
     },
     "execution_count": 55,
     "metadata": {},
     "output_type": "execute_result"
    }
   ],
   "source": [
    "list2 = myList.count(40)\n",
    "list2"
   ]
  },
  {
   "cell_type": "markdown",
   "id": "36cf5230",
   "metadata": {},
   "source": [
    "### The index() function returns the location of the specified element"
   ]
  },
  {
   "cell_type": "code",
   "execution_count": 56,
   "id": "8d84447e",
   "metadata": {},
   "outputs": [
    {
     "data": {
      "text/plain": [
       "5"
      ]
     },
     "execution_count": 56,
     "metadata": {},
     "output_type": "execute_result"
    }
   ],
   "source": [
    "index = myList.index(50)\n",
    "index\n"
   ]
  },
  {
   "cell_type": "markdown",
   "id": "3e84accd",
   "metadata": {},
   "source": [
    "### The pop() function removes the last element in a list and returns it"
   ]
  },
  {
   "cell_type": "code",
   "execution_count": 57,
   "id": "3cfe48ca",
   "metadata": {},
   "outputs": [
    {
     "name": "stdout",
     "output_type": "stream",
     "text": [
      "4\n",
      "('cat', 'bat')\n"
     ]
    },
    {
     "data": {
      "text/plain": [
       "[1, 2, 3]"
      ]
     },
     "execution_count": 57,
     "metadata": {},
     "output_type": "execute_result"
    }
   ],
   "source": [
    "list3 = [1, 2, 3, ('cat', 'bat'), 4]\n",
    "print(list3.pop())\n",
    "print(list3.pop())\n",
    "list3"
   ]
  },
  {
   "cell_type": "markdown",
   "id": "a0065597",
   "metadata": {},
   "source": [
    "### The sorted() function sorts a list from least to greatest"
   ]
  },
  {
   "cell_type": "code",
   "execution_count": 58,
   "id": "8a54b052",
   "metadata": {},
   "outputs": [
    {
     "data": {
      "text/plain": [
       "[19, 23, 28, 40, 40, 49, 50, 68, 70, 72, 93]"
      ]
     },
     "execution_count": 58,
     "metadata": {},
     "output_type": "execute_result"
    }
   ],
   "source": [
    "myList.sort()\n",
    "myList"
   ]
  },
  {
   "cell_type": "markdown",
   "id": "d5092988",
   "metadata": {},
   "source": [
    "### The copy() function copies a list to a new list"
   ]
  },
  {
   "cell_type": "code",
   "execution_count": 59,
   "id": "283872c7",
   "metadata": {},
   "outputs": [
    {
     "name": "stdout",
     "output_type": "stream",
     "text": [
      "[19, 23, 28, 40, 40, 49, 50, 68, 70, 72, 93]\n",
      "[19, 23, 28, 40, 40, 49, 50, 68, 70, 72, 93]\n"
     ]
    }
   ],
   "source": [
    "newList = myList.copy()\n",
    "print(newList)\n",
    "print(myList)"
   ]
  },
  {
   "cell_type": "markdown",
   "id": "28b1d9fc",
   "metadata": {},
   "source": [
    "### The clear() function clears out a function"
   ]
  },
  {
   "cell_type": "code",
   "execution_count": 60,
   "id": "f878f0d4",
   "metadata": {},
   "outputs": [
    {
     "name": "stdout",
     "output_type": "stream",
     "text": [
      "[]\n"
     ]
    }
   ],
   "source": [
    "myList.clear()\n",
    "print(myList)"
   ]
  },
  {
   "cell_type": "markdown",
   "id": "e345ec93",
   "metadata": {},
   "source": [
    "### The any() function checks if any of the elements in a function are true"
   ]
  },
  {
   "cell_type": "code",
   "execution_count": 61,
   "id": "8609e199",
   "metadata": {},
   "outputs": [
    {
     "name": "stdout",
     "output_type": "stream",
     "text": [
      "True\n"
     ]
    }
   ],
   "source": [
    "bool_list = [True, False, True]\n",
    "x = any(bool_list)\n",
    "print(x)"
   ]
  },
  {
   "cell_type": "markdown",
   "id": "0eaad49a",
   "metadata": {},
   "source": [
    "### The filter() function filters out the elements that satisfy the argument"
   ]
  },
  {
   "cell_type": "code",
   "execution_count": 62,
   "id": "07c06a06",
   "metadata": {},
   "outputs": [
    {
     "name": "stdout",
     "output_type": "stream",
     "text": [
      "()\n"
     ]
    }
   ],
   "source": [
    "letters = ['j', 'a', 'c', 'o', 'b']\n",
    "\n",
    "def check_vowels(letter):\n",
    "    vowels = ['a', 'e', 'i', 'o', 'u']\n",
    "    return True if vowels in letters else False\n",
    "\n",
    "filter_vowels = filter(check_vowels, letters)\n",
    "\n",
    "vowels = tuple(filter_vowels)\n",
    "\n",
    "print(vowels)"
   ]
  },
  {
   "cell_type": "markdown",
   "id": "ff24294d",
   "metadata": {},
   "source": [
    "### The list() function creates a list with the elements passed to it"
   ]
  },
  {
   "cell_type": "code",
   "execution_count": 65,
   "id": "17cc1858",
   "metadata": {},
   "outputs": [
    {
     "ename": "TypeError",
     "evalue": "'int' object is not callable",
     "output_type": "error",
     "traceback": [
      "\u001b[1;31m---------------------------------------------------------------------------\u001b[0m",
      "\u001b[1;31mTypeError\u001b[0m                                 Traceback (most recent call last)",
      "\u001b[1;32m<ipython-input-65-5f845e74669b>\u001b[0m in \u001b[0;36m<module>\u001b[1;34m\u001b[0m\n\u001b[1;32m----> 1\u001b[1;33m \u001b[0mprint\u001b[0m\u001b[1;33m(\u001b[0m\u001b[0mlist\u001b[0m\u001b[1;33m(\u001b[0m\u001b[1;33m)\u001b[0m\u001b[1;33m)\u001b[0m\u001b[1;33m\u001b[0m\u001b[1;33m\u001b[0m\u001b[0m\n\u001b[0m\u001b[0;32m      2\u001b[0m \u001b[0mvowel\u001b[0m \u001b[1;33m=\u001b[0m \u001b[1;33m(\u001b[0m\u001b[1;34m'a'\u001b[0m\u001b[1;33m,\u001b[0m \u001b[1;34m'e'\u001b[0m\u001b[1;33m,\u001b[0m \u001b[1;34m'i'\u001b[0m\u001b[1;33m,\u001b[0m \u001b[1;34m'o'\u001b[0m\u001b[1;33m,\u001b[0m \u001b[1;34m'u'\u001b[0m\u001b[1;33m)\u001b[0m\u001b[1;33m\u001b[0m\u001b[1;33m\u001b[0m\u001b[0m\n",
      "\u001b[1;31mTypeError\u001b[0m: 'int' object is not callable"
     ]
    }
   ],
   "source": [
    "print(list())\n",
    "vowel = ('a', 'e', 'i', 'o', 'u')\n",
    "print(list(vowel))"
   ]
  },
  {
   "cell_type": "markdown",
   "id": "34ad06e9",
   "metadata": {},
   "source": [
    "### The map() function "
   ]
  },
  {
   "cell_type": "code",
   "execution_count": 69,
   "id": "dc23bfe4",
   "metadata": {},
   "outputs": [
    {
     "name": "stdout",
     "output_type": "stream",
     "text": [
      "<map object at 0x000001A7C97F0FA0>\n"
     ]
    }
   ],
   "source": [
    "def addition(n):\n",
    "    return n + n \n",
    "\n",
    "numbers = [1,2,3,4]\n",
    "result = map(addition, numbers)\n",
    "print(result)"
   ]
  },
  {
   "cell_type": "markdown",
   "id": "4a1adfce",
   "metadata": {},
   "source": [
    "### The cmp() function compares values "
   ]
  },
  {
   "cell_type": "code",
   "execution_count": 72,
   "id": "2fd3eca4",
   "metadata": {},
   "outputs": [
    {
     "ename": "NameError",
     "evalue": "name 'cmp' is not defined",
     "output_type": "error",
     "traceback": [
      "\u001b[1;31m---------------------------------------------------------------------------\u001b[0m",
      "\u001b[1;31mNameError\u001b[0m                                 Traceback (most recent call last)",
      "\u001b[1;32m<ipython-input-72-eb21f4c3a412>\u001b[0m in \u001b[0;36m<module>\u001b[1;34m\u001b[0m\n\u001b[0;32m      1\u001b[0m \u001b[0mn\u001b[0m \u001b[1;33m=\u001b[0m \u001b[1;36m12\u001b[0m\u001b[1;33m\u001b[0m\u001b[1;33m\u001b[0m\u001b[0m\n\u001b[1;32m----> 2\u001b[1;33m \u001b[1;32mif\u001b[0m \u001b[0mcmp\u001b[0m\u001b[1;33m(\u001b[0m\u001b[1;36m0\u001b[0m\u001b[1;33m,\u001b[0m \u001b[0mn\u001b[0m \u001b[1;33m%\u001b[0m \u001b[1;36m2\u001b[0m\u001b[1;33m)\u001b[0m\u001b[1;33m:\u001b[0m\u001b[1;33m\u001b[0m\u001b[1;33m\u001b[0m\u001b[0m\n\u001b[0m\u001b[0;32m      3\u001b[0m     \u001b[0mprint\u001b[0m\u001b[1;33m(\u001b[0m\u001b[1;34m'odd'\u001b[0m\u001b[1;33m)\u001b[0m\u001b[1;33m\u001b[0m\u001b[1;33m\u001b[0m\u001b[0m\n\u001b[0;32m      4\u001b[0m \u001b[1;32melse\u001b[0m\u001b[1;33m:\u001b[0m\u001b[1;33m\u001b[0m\u001b[1;33m\u001b[0m\u001b[0m\n\u001b[0;32m      5\u001b[0m     \u001b[0mprint\u001b[0m\u001b[1;33m(\u001b[0m\u001b[1;34m'even'\u001b[0m\u001b[1;33m)\u001b[0m\u001b[1;33m\u001b[0m\u001b[1;33m\u001b[0m\u001b[0m\n",
      "\u001b[1;31mNameError\u001b[0m: name 'cmp' is not defined"
     ]
    }
   ],
   "source": [
    "n = 12\n",
    "if cmp(0, n % 2):\n",
    "    print('odd')\n",
    "else: \n",
    "    print('even')\n",
    "    \n",
    "n = 13 \n",
    "if cmp(0, n % 2):  \n",
    "    print(\"odd\")\n",
    "else: \n",
    "    print(\"even\") "
   ]
  },
  {
   "cell_type": "markdown",
   "id": "c691c0ba",
   "metadata": {},
   "source": [
    "### The len() function returns the length of a list"
   ]
  },
  {
   "cell_type": "code",
   "execution_count": 76,
   "id": "43c8372f",
   "metadata": {},
   "outputs": [
    {
     "data": {
      "text/plain": [
       "5"
      ]
     },
     "execution_count": 76,
     "metadata": {},
     "output_type": "execute_result"
    }
   ],
   "source": [
    "len(vowel)"
   ]
  },
  {
   "cell_type": "markdown",
   "id": "8cb1c813",
   "metadata": {},
   "source": [
    "### The max() function returns the largest or \"max\" number in a list"
   ]
  },
  {
   "cell_type": "code",
   "execution_count": 77,
   "id": "4f58df44",
   "metadata": {},
   "outputs": [
    {
     "data": {
      "text/plain": [
       "90"
      ]
     },
     "execution_count": 77,
     "metadata": {},
     "output_type": "execute_result"
    }
   ],
   "source": [
    "max_list = [1,4,6,7,8,8,4,1,4,5,6,67,8,9,90]\n",
    "max(max_list)"
   ]
  },
  {
   "cell_type": "markdown",
   "id": "d7fa4b2e",
   "metadata": {},
   "source": [
    "### The tuple(seq) function returns elements a list as a tuple"
   ]
  },
  {
   "cell_type": "code",
   "execution_count": 79,
   "id": "60fe2f85",
   "metadata": {},
   "outputs": [
    {
     "data": {
      "text/plain": [
       "(1, 2, 3, 4)"
      ]
     },
     "execution_count": 79,
     "metadata": {},
     "output_type": "execute_result"
    }
   ],
   "source": [
    "tuple_list = [1,2,3,4]\n",
    "tuple(tuple_list)"
   ]
  },
  {
   "cell_type": "code",
   "execution_count": null,
   "id": "2d5a06fb",
   "metadata": {},
   "outputs": [],
   "source": []
  },
  {
   "cell_type": "markdown",
   "id": "0bb59d91",
   "metadata": {},
   "source": []
  }
 ],
 "metadata": {
  "kernelspec": {
   "display_name": "Python 3",
   "language": "python",
   "name": "python3"
  },
  "language_info": {
   "codemirror_mode": {
    "name": "ipython",
    "version": 3
   },
   "file_extension": ".py",
   "mimetype": "text/x-python",
   "name": "python",
   "nbconvert_exporter": "python",
   "pygments_lexer": "ipython3",
   "version": "3.8.8"
  }
 },
 "nbformat": 4,
 "nbformat_minor": 5
}
